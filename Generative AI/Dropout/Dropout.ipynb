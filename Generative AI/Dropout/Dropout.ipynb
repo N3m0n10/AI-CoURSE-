{
 "cells": [
  {
   "cell_type": "code",
   "execution_count": null,
   "id": "824ba1d0",
   "metadata": {},
   "outputs": [],
   "source": [
    "import torch \n",
    "\n",
    "class NeuralNetwork()\n",
    "    def __init__(self):\n",
    "\n",
    "    # Dropout layers\n",
    "    self.dropout1 = nn.Dropout(0.5)\n",
    "    self.dropout2 = nn.Dropout(0.5)\n",
    "    # You can adjust the dropout probabilit\n",
    "    def forward(self, x):\n",
    "    # Layer 1: Convolution -> Activation -> Pooling\n",
    "    # Layer 2: Convolution -> Activation -> Pooling\n",
    "    # Flatten the tensor\n",
    "    # Fully connected layers with dropout\n",
    "    x = F.relu(self.fc1(x))\n",
    "    x = self.dropout1(x) # Apply dropout after the first FC layer\n",
    "    x = self.fc2(x)\n",
    "    x = self.dr\n",
    "\n",
    "    "
   ]
  }
 ],
 "metadata": {
  "language_info": {
   "name": "python"
  }
 },
 "nbformat": 4,
 "nbformat_minor": 5
}
