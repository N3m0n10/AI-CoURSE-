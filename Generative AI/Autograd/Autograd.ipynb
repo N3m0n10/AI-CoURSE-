{
 "cells": [
  {
   "cell_type": "code",
   "execution_count": 48,
   "id": "b8fe4661",
   "metadata": {},
   "outputs": [],
   "source": [
    "import torch"
   ]
  },
  {
   "cell_type": "markdown",
   "id": "1a947882",
   "metadata": {},
   "source": [
    "### Using automatic differentiation with pytorch:\n",
    "\n",
    "###### 1st eaxample with function: $y = 3\\mathbf{x}^T \\mathbf{x}$."
   ]
  },
  {
   "cell_type": "code",
   "execution_count": 49,
   "id": "cd5adc87",
   "metadata": {},
   "outputs": [],
   "source": [
    "x = torch.arange(4.0)\n",
    "x.requires_grad_(True)\n",
    "y = 3 * torch.dot(x, x)"
   ]
  },
  {
   "cell_type": "markdown",
   "id": "47a0eb25",
   "metadata": {},
   "source": [
    "###### Using backward to get the gradient related to X"
   ]
  },
  {
   "cell_type": "code",
   "execution_count": 50,
   "id": "de128ec1",
   "metadata": {},
   "outputs": [
    {
     "data": {
      "text/plain": [
       "tensor([ 0.,  6., 12., 18.])"
      ]
     },
     "execution_count": 50,
     "metadata": {},
     "output_type": "execute_result"
    }
   ],
   "source": [
    "y.backward()\n",
    "x.grad"
   ]
  },
  {
   "cell_type": "code",
   "execution_count": 51,
   "id": "88f417f0",
   "metadata": {},
   "outputs": [
    {
     "data": {
      "text/plain": [
       "tensor([True, True, True, True])"
      ]
     },
     "execution_count": 51,
     "metadata": {},
     "output_type": "execute_result"
    }
   ],
   "source": [
    "x.grad == 6 * x"
   ]
  },
  {
   "cell_type": "markdown",
   "id": "05946765",
   "metadata": {},
   "source": [
    "###### Gradient must be mannualy reset:"
   ]
  },
  {
   "cell_type": "code",
   "execution_count": 52,
   "id": "4b48cf8f",
   "metadata": {},
   "outputs": [
    {
     "data": {
      "text/plain": [
       "tensor([0., 0., 0., 0.])"
      ]
     },
     "execution_count": 52,
     "metadata": {},
     "output_type": "execute_result"
    }
   ],
   "source": [
    "x.grad.zero_()"
   ]
  },
  {
   "cell_type": "markdown",
   "id": "925939d8",
   "metadata": {},
   "source": [
    "###### 2nd eaxample with function: $y = 3\\mathbf{x}² -  2\\mathbf{z}$."
   ]
  },
  {
   "cell_type": "code",
   "execution_count": 53,
   "id": "20215490",
   "metadata": {},
   "outputs": [
    {
     "name": "stdout",
     "output_type": "stream",
     "text": [
      "tensor([ 0.,  6., 12.])\n",
      "tensor([-2., -2., -2.])\n",
      "tensor([True, True, True])\n",
      "tensor([True, True, True])\n"
     ]
    }
   ],
   "source": [
    "x = torch.arange(3.0)\n",
    "z = torch.arange(3.0,6.0)\n",
    "x.requires_grad_(True)\n",
    "z.requires_grad_(True)\n",
    "y = 3*x**2 - 2*z\n",
    "external_grad = torch.tensor([1., 1., 1.]) # setting gradient shape (necessary!)\n",
    "y.backward(gradient=external_grad)\n",
    "print(x.grad)\n",
    "print(z.grad)\n",
    "print(x.grad == 6*x)\n",
    "print(z.grad == -2)"
   ]
  },
  {
   "cell_type": "markdown",
   "id": "0c4a6245",
   "metadata": {},
   "source": [
    "###### When y is a vector:"
   ]
  },
  {
   "cell_type": "code",
   "execution_count": null,
   "id": "bad3c9b2",
   "metadata": {},
   "outputs": [
    {
     "data": {
      "text/plain": [
       "tensor([0., 2., 4., 6.])"
      ]
     },
     "execution_count": 54,
     "metadata": {},
     "output_type": "execute_result"
    }
   ],
   "source": [
    "x = torch.tensor([0., 1., 2., 3.],requires_grad=True)\n",
    "y = x * x\n",
    "y.sum().backward() \n",
    "x.grad # Sum of gradients (in a minibatch)"
   ]
  },
  {
   "cell_type": "markdown",
   "id": "cb14aed1",
   "metadata": {},
   "source": [
    "### Detaching\n",
    "###### Tensor detached do not require grad, useful for RF learning, and using on predictions..."
   ]
  }
 ],
 "metadata": {
  "kernelspec": {
   "display_name": "base",
   "language": "python",
   "name": "python3"
  },
  "language_info": {
   "codemirror_mode": {
    "name": "ipython",
    "version": 3
   },
   "file_extension": ".py",
   "mimetype": "text/x-python",
   "name": "python",
   "nbconvert_exporter": "python",
   "pygments_lexer": "ipython3",
   "version": "3.12.2"
  }
 },
 "nbformat": 4,
 "nbformat_minor": 5
}
